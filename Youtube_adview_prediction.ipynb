{
 "cells": [
  {
   "cell_type": "code",
   "execution_count": 1,
   "id": "85a6c2cc",
   "metadata": {},
   "outputs": [],
   "source": [
    "import numpy as np\n",
    "import pandas as pd\n",
    "import seaborn as sns\n",
    "import matplotlib.pyplot as plt\n",
    "%matplotlib inline\n",
    "\n",
    "df=pd.read_csv(\"train.csv\")"
   ]
  },
  {
   "cell_type": "code",
   "execution_count": 2,
   "id": "ac4d447d",
   "metadata": {},
   "outputs": [
    {
     "data": {
      "text/html": [
       "<div>\n",
       "<style scoped>\n",
       "    .dataframe tbody tr th:only-of-type {\n",
       "        vertical-align: middle;\n",
       "    }\n",
       "\n",
       "    .dataframe tbody tr th {\n",
       "        vertical-align: top;\n",
       "    }\n",
       "\n",
       "    .dataframe thead th {\n",
       "        text-align: right;\n",
       "    }\n",
       "</style>\n",
       "<table border=\"1\" class=\"dataframe\">\n",
       "  <thead>\n",
       "    <tr style=\"text-align: right;\">\n",
       "      <th></th>\n",
       "      <th>vidid</th>\n",
       "      <th>adview</th>\n",
       "      <th>views</th>\n",
       "      <th>likes</th>\n",
       "      <th>dislikes</th>\n",
       "      <th>comment</th>\n",
       "      <th>published</th>\n",
       "      <th>duration</th>\n",
       "      <th>category</th>\n",
       "    </tr>\n",
       "  </thead>\n",
       "  <tbody>\n",
       "    <tr>\n",
       "      <th>0</th>\n",
       "      <td>VID_18655</td>\n",
       "      <td>40</td>\n",
       "      <td>1031602</td>\n",
       "      <td>8523</td>\n",
       "      <td>363</td>\n",
       "      <td>1095</td>\n",
       "      <td>2016-09-14</td>\n",
       "      <td>PT7M37S</td>\n",
       "      <td>F</td>\n",
       "    </tr>\n",
       "    <tr>\n",
       "      <th>1</th>\n",
       "      <td>VID_14135</td>\n",
       "      <td>2</td>\n",
       "      <td>1707</td>\n",
       "      <td>56</td>\n",
       "      <td>2</td>\n",
       "      <td>6</td>\n",
       "      <td>2016-10-01</td>\n",
       "      <td>PT9M30S</td>\n",
       "      <td>D</td>\n",
       "    </tr>\n",
       "    <tr>\n",
       "      <th>2</th>\n",
       "      <td>VID_2187</td>\n",
       "      <td>1</td>\n",
       "      <td>2023</td>\n",
       "      <td>25</td>\n",
       "      <td>0</td>\n",
       "      <td>2</td>\n",
       "      <td>2016-07-02</td>\n",
       "      <td>PT2M16S</td>\n",
       "      <td>C</td>\n",
       "    </tr>\n",
       "    <tr>\n",
       "      <th>3</th>\n",
       "      <td>VID_23096</td>\n",
       "      <td>6</td>\n",
       "      <td>620860</td>\n",
       "      <td>777</td>\n",
       "      <td>161</td>\n",
       "      <td>153</td>\n",
       "      <td>2016-07-27</td>\n",
       "      <td>PT4M22S</td>\n",
       "      <td>H</td>\n",
       "    </tr>\n",
       "    <tr>\n",
       "      <th>4</th>\n",
       "      <td>VID_10175</td>\n",
       "      <td>1</td>\n",
       "      <td>666</td>\n",
       "      <td>1</td>\n",
       "      <td>0</td>\n",
       "      <td>0</td>\n",
       "      <td>2016-06-29</td>\n",
       "      <td>PT31S</td>\n",
       "      <td>D</td>\n",
       "    </tr>\n",
       "  </tbody>\n",
       "</table>\n",
       "</div>"
      ],
      "text/plain": [
       "       vidid  adview    views likes dislikes comment   published duration  \\\n",
       "0  VID_18655      40  1031602  8523      363    1095  2016-09-14  PT7M37S   \n",
       "1  VID_14135       2     1707    56        2       6  2016-10-01  PT9M30S   \n",
       "2   VID_2187       1     2023    25        0       2  2016-07-02  PT2M16S   \n",
       "3  VID_23096       6   620860   777      161     153  2016-07-27  PT4M22S   \n",
       "4  VID_10175       1      666     1        0       0  2016-06-29    PT31S   \n",
       "\n",
       "  category  \n",
       "0        F  \n",
       "1        D  \n",
       "2        C  \n",
       "3        H  \n",
       "4        D  "
      ]
     },
     "execution_count": 2,
     "metadata": {},
     "output_type": "execute_result"
    }
   ],
   "source": [
    "df.head()"
   ]
  },
  {
   "cell_type": "code",
   "execution_count": 3,
   "id": "45e8c0ac",
   "metadata": {},
   "outputs": [
    {
     "data": {
      "text/plain": [
       "vidid        0\n",
       "adview       0\n",
       "views        0\n",
       "likes        0\n",
       "dislikes     0\n",
       "comment      0\n",
       "published    0\n",
       "duration     0\n",
       "category     0\n",
       "dtype: int64"
      ]
     },
     "execution_count": 3,
     "metadata": {},
     "output_type": "execute_result"
    }
   ],
   "source": [
    "df.isnull().sum()"
   ]
  },
  {
   "cell_type": "code",
   "execution_count": 4,
   "id": "d21d2927",
   "metadata": {},
   "outputs": [
    {
     "data": {
      "text/plain": [
       "(14999, 9)"
      ]
     },
     "execution_count": 4,
     "metadata": {},
     "output_type": "execute_result"
    }
   ],
   "source": [
    "df.shape"
   ]
  },
  {
   "cell_type": "code",
   "execution_count": 5,
   "id": "0e283eaa",
   "metadata": {},
   "outputs": [],
   "source": [
    "import matplotlib.cm as cm"
   ]
  },
  {
   "cell_type": "code",
   "execution_count": 6,
   "id": "327a835c",
   "metadata": {},
   "outputs": [],
   "source": [
    "## Removing character \"F\" present in DATA\"\n",
    "df=df[df.views!='F']\n",
    "df=df[df.likes!='F']\n",
    "df=df[df.dislikes!='F']\n",
    "df=df[df.comment!='F']\n"
   ]
  },
  {
   "cell_type": "code",
   "execution_count": 7,
   "id": "900cf5e5",
   "metadata": {},
   "outputs": [
    {
     "data": {
      "text/plain": [
       "(14637, 9)"
      ]
     },
     "execution_count": 7,
     "metadata": {},
     "output_type": "execute_result"
    }
   ],
   "source": [
    "df.shape"
   ]
  },
  {
   "cell_type": "code",
   "execution_count": 8,
   "id": "8e7ccfb0",
   "metadata": {},
   "outputs": [
    {
     "data": {
      "text/plain": [
       "0        F\n",
       "1        D\n",
       "2        C\n",
       "3        H\n",
       "4        D\n",
       "        ..\n",
       "14994    A\n",
       "14995    D\n",
       "14996    B\n",
       "14997    G\n",
       "14998    D\n",
       "Name: category, Length: 14637, dtype: object"
      ]
     },
     "execution_count": 8,
     "metadata": {},
     "output_type": "execute_result"
    }
   ],
   "source": [
    "df[\"category\"]"
   ]
  },
  {
   "cell_type": "code",
   "execution_count": 9,
   "id": "83ba14c5",
   "metadata": {},
   "outputs": [],
   "source": [
    "### Converts values to integers for views , likes , comments, dilikes, and adview\n",
    "\n",
    "df['views']=pd.to_numeric(df['views'])\n",
    "df['comment']=pd.to_numeric(df['comment'])\n",
    "df['likes']=pd.to_numeric(df['likes'])\n",
    "df['dislikes']=pd.to_numeric(df['dislikes'])\n",
    "df['adview']=pd.to_numeric(df['adview'])\n"
   ]
  },
  {
   "cell_type": "code",
   "execution_count": 10,
   "id": "47625c89",
   "metadata": {},
   "outputs": [
    {
     "data": {
      "text/plain": [
       "0        VID_18655\n",
       "1        VID_14135\n",
       "2         VID_2187\n",
       "3        VID_23096\n",
       "4        VID_10175\n",
       "           ...    \n",
       "14994       VID_31\n",
       "14995     VID_5861\n",
       "14996      VID_805\n",
       "14997    VID_19843\n",
       "14998     VID_8534\n",
       "Name: vidid, Length: 14637, dtype: object"
      ]
     },
     "execution_count": 10,
     "metadata": {},
     "output_type": "execute_result"
    }
   ],
   "source": [
    "column_vidid=df['vidid']\n",
    "column_vidid"
   ]
  },
  {
   "cell_type": "code",
   "execution_count": 11,
   "id": "961625ba",
   "metadata": {},
   "outputs": [
    {
     "data": {
      "text/html": [
       "<div>\n",
       "<style scoped>\n",
       "    .dataframe tbody tr th:only-of-type {\n",
       "        vertical-align: middle;\n",
       "    }\n",
       "\n",
       "    .dataframe tbody tr th {\n",
       "        vertical-align: top;\n",
       "    }\n",
       "\n",
       "    .dataframe thead th {\n",
       "        text-align: right;\n",
       "    }\n",
       "</style>\n",
       "<table border=\"1\" class=\"dataframe\">\n",
       "  <thead>\n",
       "    <tr style=\"text-align: right;\">\n",
       "      <th></th>\n",
       "      <th>vidid</th>\n",
       "      <th>adview</th>\n",
       "      <th>views</th>\n",
       "      <th>likes</th>\n",
       "      <th>dislikes</th>\n",
       "      <th>comment</th>\n",
       "      <th>published</th>\n",
       "      <th>duration</th>\n",
       "      <th>category</th>\n",
       "    </tr>\n",
       "  </thead>\n",
       "  <tbody>\n",
       "    <tr>\n",
       "      <th>0</th>\n",
       "      <td>5912</td>\n",
       "      <td>40</td>\n",
       "      <td>1031602</td>\n",
       "      <td>8523</td>\n",
       "      <td>363</td>\n",
       "      <td>1095</td>\n",
       "      <td>2168</td>\n",
       "      <td>2925</td>\n",
       "      <td>5</td>\n",
       "    </tr>\n",
       "    <tr>\n",
       "      <th>1</th>\n",
       "      <td>2741</td>\n",
       "      <td>2</td>\n",
       "      <td>1707</td>\n",
       "      <td>56</td>\n",
       "      <td>2</td>\n",
       "      <td>6</td>\n",
       "      <td>2185</td>\n",
       "      <td>3040</td>\n",
       "      <td>3</td>\n",
       "    </tr>\n",
       "    <tr>\n",
       "      <th>2</th>\n",
       "      <td>8138</td>\n",
       "      <td>1</td>\n",
       "      <td>2023</td>\n",
       "      <td>25</td>\n",
       "      <td>0</td>\n",
       "      <td>2</td>\n",
       "      <td>2094</td>\n",
       "      <td>1863</td>\n",
       "      <td>2</td>\n",
       "    </tr>\n",
       "    <tr>\n",
       "      <th>3</th>\n",
       "      <td>9005</td>\n",
       "      <td>6</td>\n",
       "      <td>620860</td>\n",
       "      <td>777</td>\n",
       "      <td>161</td>\n",
       "      <td>153</td>\n",
       "      <td>2119</td>\n",
       "      <td>2546</td>\n",
       "      <td>7</td>\n",
       "    </tr>\n",
       "    <tr>\n",
       "      <th>4</th>\n",
       "      <td>122</td>\n",
       "      <td>1</td>\n",
       "      <td>666</td>\n",
       "      <td>1</td>\n",
       "      <td>0</td>\n",
       "      <td>0</td>\n",
       "      <td>2091</td>\n",
       "      <td>1963</td>\n",
       "      <td>3</td>\n",
       "    </tr>\n",
       "  </tbody>\n",
       "</table>\n",
       "</div>"
      ],
      "text/plain": [
       "   vidid  adview    views  likes  dislikes  comment  published  duration  \\\n",
       "0   5912      40  1031602   8523       363     1095       2168      2925   \n",
       "1   2741       2     1707     56         2        6       2185      3040   \n",
       "2   8138       1     2023     25         0        2       2094      1863   \n",
       "3   9005       6   620860    777       161      153       2119      2546   \n",
       "4    122       1      666      1         0        0       2091      1963   \n",
       "\n",
       "   category  \n",
       "0         5  \n",
       "1         3  \n",
       "2         2  \n",
       "3         7  \n",
       "4         3  "
      ]
     },
     "execution_count": 11,
     "metadata": {},
     "output_type": "execute_result"
    }
   ],
   "source": [
    "# Encoding features like category, Duration , Vidid,published\n",
    "from sklearn.preprocessing import LabelEncoder\n",
    "label_encoder=LabelEncoder()\n",
    "df['category']=label_encoder.fit_transform(df['category'])\n",
    "df['duration']=label_encoder.fit_transform(df['duration'])\n",
    "df['vidid']=label_encoder.fit_transform(df['vidid'])\n",
    "df['published']=label_encoder.fit_transform(df['published'])\n",
    "df.head()"
   ]
  },
  {
   "cell_type": "code",
   "execution_count": 12,
   "id": "ec1e3dd8",
   "metadata": {},
   "outputs": [
    {
     "data": {
      "image/png": "[encoded data removed]",
      "text/plain": [
       "<Figure size 640x480 with 1 Axes>"
      ]
     },
     "metadata": {},
     "output_type": "display_data"
    },
    {
     "data": {
      "image/png": "[encoded data removed]",
      "text/plain": [
       "<Figure size 640x480 with 1 Axes>"
      ]
     },
     "metadata": {},
     "output_type": "display_data"
    }
   ],
   "source": [
    "# Visualization\n",
    "\n",
    "# Individual plots\n",
    "\n",
    "plt.hist(df['category'])\n",
    "plt.show()\n",
    "\n",
    "plt.plot(df['adview'])\n",
    "plt.show()\n",
    "\n",
    "df=df[df['adview']<2000000]"
   ]
  },
  {
   "cell_type": "code",
   "execution_count": 13,
   "id": "9ee0fe71",
   "metadata": {},
   "outputs": [
    {
     "data": {
      "image/png": "[encoded data removed]",
      "text/plain": [
       "<Figure size 1000x800 with 2 Axes>"
      ]
     },
     "metadata": {},
     "output_type": "display_data"
    }
   ],
   "source": [
    "# Heatmap\n",
    "\n",
    "f,ax=plt.subplots(figsize=(10,8))\n",
    "corr=df.corr()\n",
    "sns.heatmap(corr,mask=np.zeros_like(corr),cmap=sns.diverging_palette(220,10,as_cmap=True),square=True,ax=ax,annot=True)\n",
    "plt.show()\n",
    "\n"
   ]
  },
  {
   "cell_type": "code",
   "execution_count": 14,
   "id": "be5c9a36",
   "metadata": {},
   "outputs": [
    {
     "data": {
      "text/html": [
       "<div>\n",
       "<style scoped>\n",
       "    .dataframe tbody tr th:only-of-type {\n",
       "        vertical-align: middle;\n",
       "    }\n",
       "\n",
       "    .dataframe tbody tr th {\n",
       "        vertical-align: top;\n",
       "    }\n",
       "\n",
       "    .dataframe thead th {\n",
       "        text-align: right;\n",
       "    }\n",
       "</style>\n",
       "<table border=\"1\" class=\"dataframe\">\n",
       "  <thead>\n",
       "    <tr style=\"text-align: right;\">\n",
       "      <th></th>\n",
       "      <th>vidid</th>\n",
       "      <th>adview</th>\n",
       "      <th>views</th>\n",
       "      <th>likes</th>\n",
       "      <th>dislikes</th>\n",
       "      <th>comment</th>\n",
       "      <th>published</th>\n",
       "      <th>duration</th>\n",
       "      <th>category</th>\n",
       "    </tr>\n",
       "  </thead>\n",
       "  <tbody>\n",
       "    <tr>\n",
       "      <th>0</th>\n",
       "      <td>5912</td>\n",
       "      <td>40</td>\n",
       "      <td>1031602</td>\n",
       "      <td>8523</td>\n",
       "      <td>363</td>\n",
       "      <td>1095</td>\n",
       "      <td>2168</td>\n",
       "      <td>457</td>\n",
       "      <td>5</td>\n",
       "    </tr>\n",
       "    <tr>\n",
       "      <th>1</th>\n",
       "      <td>2741</td>\n",
       "      <td>2</td>\n",
       "      <td>1707</td>\n",
       "      <td>56</td>\n",
       "      <td>2</td>\n",
       "      <td>6</td>\n",
       "      <td>2185</td>\n",
       "      <td>570</td>\n",
       "      <td>3</td>\n",
       "    </tr>\n",
       "    <tr>\n",
       "      <th>2</th>\n",
       "      <td>8138</td>\n",
       "      <td>1</td>\n",
       "      <td>2023</td>\n",
       "      <td>25</td>\n",
       "      <td>0</td>\n",
       "      <td>2</td>\n",
       "      <td>2094</td>\n",
       "      <td>136</td>\n",
       "      <td>2</td>\n",
       "    </tr>\n",
       "    <tr>\n",
       "      <th>3</th>\n",
       "      <td>9005</td>\n",
       "      <td>6</td>\n",
       "      <td>620860</td>\n",
       "      <td>777</td>\n",
       "      <td>161</td>\n",
       "      <td>153</td>\n",
       "      <td>2119</td>\n",
       "      <td>262</td>\n",
       "      <td>7</td>\n",
       "    </tr>\n",
       "    <tr>\n",
       "      <th>4</th>\n",
       "      <td>122</td>\n",
       "      <td>1</td>\n",
       "      <td>666</td>\n",
       "      <td>1</td>\n",
       "      <td>0</td>\n",
       "      <td>0</td>\n",
       "      <td>2091</td>\n",
       "      <td>31</td>\n",
       "      <td>3</td>\n",
       "    </tr>\n",
       "  </tbody>\n",
       "</table>\n",
       "</div>"
      ],
      "text/plain": [
       "   vidid  adview    views  likes  dislikes  comment  published  duration  \\\n",
       "0   5912      40  1031602   8523       363     1095       2168       457   \n",
       "1   2741       2     1707     56         2        6       2185       570   \n",
       "2   8138       1     2023     25         0        2       2094       136   \n",
       "3   9005       6   620860    777       161      153       2119       262   \n",
       "4    122       1      666      1         0        0       2091        31   \n",
       "\n",
       "   category  \n",
       "0         5  \n",
       "1         3  \n",
       "2         2  \n",
       "3         7  \n",
       "4         3  "
      ]
     },
     "execution_count": 14,
     "metadata": {},
     "output_type": "execute_result"
    }
   ],
   "source": [
    "# Convert Time in_sec for duration\n",
    "\n",
    "import datetime\n",
    "import time\n",
    "\n",
    "\n",
    "def checki(x):\n",
    "    y=x[2:]\n",
    "    h=''\n",
    "    m=''\n",
    "    s=''\n",
    "    mm=''\n",
    "    P=['H','M','S']\n",
    "    for i in y:\n",
    "        if i not in P:\n",
    "            mm+=i\n",
    "        else:\n",
    "            if(i==\"H\"):\n",
    "                h=mm\n",
    "                mm=''\n",
    "            elif(i=='M'):\n",
    "                m=mm\n",
    "                mm=''\n",
    "            else:\n",
    "                s=mm\n",
    "                mm=''\n",
    "    if(h==''):\n",
    "        h='00'\n",
    "    if(m==''):\n",
    "        m='00'\n",
    "    if(s==''):\n",
    "        s=='00'\n",
    "    bp=h+':'+m+':'+s\n",
    "    return bp\n",
    "\n",
    "\n",
    "train=pd.read_csv(\"train.csv\")['duration']\n",
    "time=train.apply(checki)\n",
    "\n",
    "def func_sec(time_sharing):\n",
    "    try:\n",
    "        h, m, s = time_sharing.split(':')\n",
    "        return int(h) * 3600 + int(m) * 60 + int(s)\n",
    "    except (ValueError, AttributeError):\n",
    "        return 0\n",
    "\n",
    "\n",
    "time1=time.apply(func_sec)\n",
    "\n",
    "df['duration']=time1\n",
    "df.head()\n"
   ]
  },
  {
   "cell_type": "markdown",
   "id": "5f15dfee",
   "metadata": {},
   "source": [
    "## Split Data "
   ]
  },
  {
   "cell_type": "code",
   "execution_count": 15,
   "id": "ea011ada",
   "metadata": {},
   "outputs": [],
   "source": [
    "## Divide dependent(target) and independent features\n",
    "X=pd.DataFrame(data=df.iloc[:,2:])\n",
    "y=pd.DataFrame(data=df.iloc[:,1].values,columns=['target'])"
   ]
  },
  {
   "cell_type": "code",
   "execution_count": 16,
   "id": "b0575c2d",
   "metadata": {},
   "outputs": [
    {
     "data": {
      "text/html": [
       "<div>\n",
       "<style scoped>\n",
       "    .dataframe tbody tr th:only-of-type {\n",
       "        vertical-align: middle;\n",
       "    }\n",
       "\n",
       "    .dataframe tbody tr th {\n",
       "        vertical-align: top;\n",
       "    }\n",
       "\n",
       "    .dataframe thead th {\n",
       "        text-align: right;\n",
       "    }\n",
       "</style>\n",
       "<table border=\"1\" class=\"dataframe\">\n",
       "  <thead>\n",
       "    <tr style=\"text-align: right;\">\n",
       "      <th></th>\n",
       "      <th>views</th>\n",
       "      <th>likes</th>\n",
       "      <th>dislikes</th>\n",
       "      <th>comment</th>\n",
       "      <th>published</th>\n",
       "      <th>duration</th>\n",
       "      <th>category</th>\n",
       "    </tr>\n",
       "  </thead>\n",
       "  <tbody>\n",
       "    <tr>\n",
       "      <th>0</th>\n",
       "      <td>1031602</td>\n",
       "      <td>8523</td>\n",
       "      <td>363</td>\n",
       "      <td>1095</td>\n",
       "      <td>2168</td>\n",
       "      <td>457</td>\n",
       "      <td>5</td>\n",
       "    </tr>\n",
       "    <tr>\n",
       "      <th>1</th>\n",
       "      <td>1707</td>\n",
       "      <td>56</td>\n",
       "      <td>2</td>\n",
       "      <td>6</td>\n",
       "      <td>2185</td>\n",
       "      <td>570</td>\n",
       "      <td>3</td>\n",
       "    </tr>\n",
       "    <tr>\n",
       "      <th>2</th>\n",
       "      <td>2023</td>\n",
       "      <td>25</td>\n",
       "      <td>0</td>\n",
       "      <td>2</td>\n",
       "      <td>2094</td>\n",
       "      <td>136</td>\n",
       "      <td>2</td>\n",
       "    </tr>\n",
       "    <tr>\n",
       "      <th>3</th>\n",
       "      <td>620860</td>\n",
       "      <td>777</td>\n",
       "      <td>161</td>\n",
       "      <td>153</td>\n",
       "      <td>2119</td>\n",
       "      <td>262</td>\n",
       "      <td>7</td>\n",
       "    </tr>\n",
       "    <tr>\n",
       "      <th>4</th>\n",
       "      <td>666</td>\n",
       "      <td>1</td>\n",
       "      <td>0</td>\n",
       "      <td>0</td>\n",
       "      <td>2091</td>\n",
       "      <td>31</td>\n",
       "      <td>3</td>\n",
       "    </tr>\n",
       "  </tbody>\n",
       "</table>\n",
       "</div>"
      ],
      "text/plain": [
       "     views  likes  dislikes  comment  published  duration  category\n",
       "0  1031602   8523       363     1095       2168       457         5\n",
       "1     1707     56         2        6       2185       570         3\n",
       "2     2023     25         0        2       2094       136         2\n",
       "3   620860    777       161      153       2119       262         7\n",
       "4      666      1         0        0       2091        31         3"
      ]
     },
     "execution_count": 16,
     "metadata": {},
     "output_type": "execute_result"
    }
   ],
   "source": [
    "X.head()"
   ]
  },
  {
   "cell_type": "code",
   "execution_count": 17,
   "id": "82be9a7e",
   "metadata": {},
   "outputs": [
    {
     "data": {
      "text/html": [
       "<div>\n",
       "<style scoped>\n",
       "    .dataframe tbody tr th:only-of-type {\n",
       "        vertical-align: middle;\n",
       "    }\n",
       "\n",
       "    .dataframe tbody tr th {\n",
       "        vertical-align: top;\n",
       "    }\n",
       "\n",
       "    .dataframe thead th {\n",
       "        text-align: right;\n",
       "    }\n",
       "</style>\n",
       "<table border=\"1\" class=\"dataframe\">\n",
       "  <thead>\n",
       "    <tr style=\"text-align: right;\">\n",
       "      <th></th>\n",
       "      <th>target</th>\n",
       "    </tr>\n",
       "  </thead>\n",
       "  <tbody>\n",
       "    <tr>\n",
       "      <th>0</th>\n",
       "      <td>40</td>\n",
       "    </tr>\n",
       "    <tr>\n",
       "      <th>1</th>\n",
       "      <td>2</td>\n",
       "    </tr>\n",
       "    <tr>\n",
       "      <th>2</th>\n",
       "      <td>1</td>\n",
       "    </tr>\n",
       "    <tr>\n",
       "      <th>3</th>\n",
       "      <td>6</td>\n",
       "    </tr>\n",
       "    <tr>\n",
       "      <th>4</th>\n",
       "      <td>1</td>\n",
       "    </tr>\n",
       "    <tr>\n",
       "      <th>...</th>\n",
       "      <td>...</td>\n",
       "    </tr>\n",
       "    <tr>\n",
       "      <th>14631</th>\n",
       "      <td>2</td>\n",
       "    </tr>\n",
       "    <tr>\n",
       "      <th>14632</th>\n",
       "      <td>1</td>\n",
       "    </tr>\n",
       "    <tr>\n",
       "      <th>14633</th>\n",
       "      <td>4</td>\n",
       "    </tr>\n",
       "    <tr>\n",
       "      <th>14634</th>\n",
       "      <td>1</td>\n",
       "    </tr>\n",
       "    <tr>\n",
       "      <th>14635</th>\n",
       "      <td>1</td>\n",
       "    </tr>\n",
       "  </tbody>\n",
       "</table>\n",
       "<p>14636 rows × 1 columns</p>\n",
       "</div>"
      ],
      "text/plain": [
       "       target\n",
       "0          40\n",
       "1           2\n",
       "2           1\n",
       "3           6\n",
       "4           1\n",
       "...       ...\n",
       "14631       2\n",
       "14632       1\n",
       "14633       4\n",
       "14634       1\n",
       "14635       1\n",
       "\n",
       "[14636 rows x 1 columns]"
      ]
     },
     "execution_count": 17,
     "metadata": {},
     "output_type": "execute_result"
    }
   ],
   "source": [
    "y"
   ]
  },
  {
   "cell_type": "code",
   "execution_count": 18,
   "id": "27d8d2cd",
   "metadata": {},
   "outputs": [],
   "source": [
    "## Split the data(80%:20%)\n",
    "\n",
    "from sklearn.model_selection import train_test_split\n",
    "X_train,X_test,y_train,y_test=train_test_split(X,y,test_size=0.2,random_state=42)"
   ]
  },
  {
   "cell_type": "code",
   "execution_count": 19,
   "id": "6e15429b",
   "metadata": {},
   "outputs": [
    {
     "data": {
      "text/plain": [
       "(11708, 7)"
      ]
     },
     "execution_count": 19,
     "metadata": {},
     "output_type": "execute_result"
    }
   ],
   "source": [
    "X_train.shape"
   ]
  },
  {
   "cell_type": "code",
   "execution_count": 20,
   "id": "27737fb2",
   "metadata": {},
   "outputs": [
    {
     "data": {
      "text/html": [
       "<div>\n",
       "<style scoped>\n",
       "    .dataframe tbody tr th:only-of-type {\n",
       "        vertical-align: middle;\n",
       "    }\n",
       "\n",
       "    .dataframe tbody tr th {\n",
       "        vertical-align: top;\n",
       "    }\n",
       "\n",
       "    .dataframe thead th {\n",
       "        text-align: right;\n",
       "    }\n",
       "</style>\n",
       "<table border=\"1\" class=\"dataframe\">\n",
       "  <thead>\n",
       "    <tr style=\"text-align: right;\">\n",
       "      <th></th>\n",
       "      <th>views</th>\n",
       "      <th>likes</th>\n",
       "      <th>dislikes</th>\n",
       "      <th>comment</th>\n",
       "      <th>published</th>\n",
       "      <th>duration</th>\n",
       "      <th>category</th>\n",
       "    </tr>\n",
       "  </thead>\n",
       "  <tbody>\n",
       "    <tr>\n",
       "      <th>13440</th>\n",
       "      <td>86739</td>\n",
       "      <td>117</td>\n",
       "      <td>9</td>\n",
       "      <td>4</td>\n",
       "      <td>1217</td>\n",
       "      <td>0</td>\n",
       "      <td>3</td>\n",
       "    </tr>\n",
       "    <tr>\n",
       "      <th>9523</th>\n",
       "      <td>1419766</td>\n",
       "      <td>887</td>\n",
       "      <td>362</td>\n",
       "      <td>232</td>\n",
       "      <td>1547</td>\n",
       "      <td>5811</td>\n",
       "      <td>6</td>\n",
       "    </tr>\n",
       "    <tr>\n",
       "      <th>3012</th>\n",
       "      <td>26086</td>\n",
       "      <td>19</td>\n",
       "      <td>0</td>\n",
       "      <td>9</td>\n",
       "      <td>966</td>\n",
       "      <td>178</td>\n",
       "      <td>5</td>\n",
       "    </tr>\n",
       "    <tr>\n",
       "      <th>1888</th>\n",
       "      <td>305445</td>\n",
       "      <td>3662</td>\n",
       "      <td>45</td>\n",
       "      <td>555</td>\n",
       "      <td>1484</td>\n",
       "      <td>257</td>\n",
       "      <td>6</td>\n",
       "    </tr>\n",
       "    <tr>\n",
       "      <th>11378</th>\n",
       "      <td>737649</td>\n",
       "      <td>1702</td>\n",
       "      <td>96</td>\n",
       "      <td>53</td>\n",
       "      <td>1127</td>\n",
       "      <td>895</td>\n",
       "      <td>3</td>\n",
       "    </tr>\n",
       "  </tbody>\n",
       "</table>\n",
       "</div>"
      ],
      "text/plain": [
       "         views  likes  dislikes  comment  published  duration  category\n",
       "13440    86739    117         9        4       1217         0         3\n",
       "9523   1419766    887       362      232       1547      5811         6\n",
       "3012     26086     19         0        9        966       178         5\n",
       "1888    305445   3662        45      555       1484       257         6\n",
       "11378   737649   1702        96       53       1127       895         3"
      ]
     },
     "execution_count": 20,
     "metadata": {},
     "output_type": "execute_result"
    }
   ],
   "source": [
    "X_train.head()"
   ]
  },
  {
   "cell_type": "markdown",
   "id": "ffa07313",
   "metadata": {},
   "source": [
    "## Normalise the Data"
   ]
  },
  {
   "cell_type": "code",
   "execution_count": 21,
   "id": "4a473459",
   "metadata": {},
   "outputs": [],
   "source": [
    "from sklearn.preprocessing import MinMaxScaler\n",
    "scaler=MinMaxScaler()\n",
    "X_train=scaler.fit_transform(X_train)\n",
    "X_test=scaler.fit_transform(X_test)"
   ]
  },
  {
   "cell_type": "code",
   "execution_count": 22,
   "id": "c8bdccd5",
   "metadata": {},
   "outputs": [
    {
     "data": {
      "text/plain": [
       "array([[6.27970800e-04, 4.12227296e-04, 1.82005703e-04, ...,\n",
       "        5.10700797e-01, 0.00000000e+00, 4.28571429e-01],\n",
       "       [1.02842406e-02, 3.12517617e-03, 7.32067383e-03, ...,\n",
       "        6.49181704e-01, 1.37320699e-01, 8.57142857e-01],\n",
       "       [1.88608556e-04, 6.69428942e-05, 0.00000000e+00, ...,\n",
       "        4.05371381e-01, 4.20634733e-03, 7.14285714e-01],\n",
       "       ...,\n",
       "       [1.48331209e-03, 3.03004679e-04, 7.07799956e-04, ...,\n",
       "        5.19093580e-01, 5.15159392e-03, 4.28571429e-01],\n",
       "       [9.86119882e-03, 4.87626135e-03, 1.53087019e-02, ...,\n",
       "        9.00125892e-01, 0.00000000e+00, 8.57142857e-01],\n",
       "       [2.87646701e-04, 4.29843847e-04, 1.21337135e-04, ...,\n",
       "        9.39991607e-02, 8.36543233e-03, 4.28571429e-01]])"
      ]
     },
     "execution_count": 22,
     "metadata": {},
     "output_type": "execute_result"
    }
   ],
   "source": [
    "X_train"
   ]
  },
  {
   "cell_type": "code",
   "execution_count": 23,
   "id": "299302a2",
   "metadata": {
    "scrolled": true
   },
   "outputs": [
    {
     "data": {
      "text/plain": [
       "0.17384916330521913"
      ]
     },
     "execution_count": 23,
     "metadata": {},
     "output_type": "execute_result"
    }
   ],
   "source": [
    "X_train.mean()"
   ]
  },
  {
   "cell_type": "markdown",
   "id": "755d270c",
   "metadata": {},
   "source": [
    "## Evalution Metrics"
   ]
  },
  {
   "cell_type": "code",
   "execution_count": 24,
   "id": "a1eadaed",
   "metadata": {},
   "outputs": [],
   "source": [
    "from sklearn.metrics import f1_score\n",
    "from sklearn import metrics\n",
    "\n",
    "def print_error(X_test,y_test,model_name):\n",
    "    prediction=model_name.predict(X_test)\n",
    "    print('Mean Abosolute Error:',metrics.mean_absolute_error(y_test,prediction))\n",
    "    print('Mean Squared Error:',metrics.mean_squared_error(y_test,prediction))\n",
    "    print('Root Mean Squared Error:',np.sqrt(metrics.mean_squared_error(y_test,prediction)))"
   ]
  },
  {
   "cell_type": "markdown",
   "id": "6586f43e",
   "metadata": {},
   "source": [
    "## Linear Regression"
   ]
  },
  {
   "cell_type": "code",
   "execution_count": 25,
   "id": "284d5102",
   "metadata": {},
   "outputs": [
    {
     "name": "stdout",
     "output_type": "stream",
     "text": [
      "Mean Abosolute Error: 3709.2233098173524\n",
      "Mean Squared Error: 835687006.6883751\n",
      "Root Mean Squared Error: 28908.25153288201\n"
     ]
    }
   ],
   "source": [
    "\n",
    "from sklearn import linear_model\n",
    "linear_reg=linear_model.LinearRegression()\n",
    "linear_reg.fit(X_train,y_train)\n",
    "print_error(X_test,y_test,linear_reg)"
   ]
  },
  {
   "cell_type": "markdown",
   "id": "0226aa39",
   "metadata": {},
   "source": [
    "## Decision_tree Regressor"
   ]
  },
  {
   "cell_type": "code",
   "execution_count": 26,
   "id": "4df3bc38",
   "metadata": {},
   "outputs": [
    {
     "name": "stdout",
     "output_type": "stream",
     "text": [
      "Mean Abosolute Error: 2823.85587431694\n",
      "Mean Squared Error: 889443144.1284153\n",
      "Root Mean Squared Error: 29823.53339442554\n"
     ]
    }
   ],
   "source": [
    "from sklearn.tree import DecisionTreeRegressor\n",
    "decision_tree=DecisionTreeRegressor()\n",
    "decision_tree.fit(X_train,y_train)\n",
    "print_error(X_test,y_test,decision_tree)"
   ]
  },
  {
   "cell_type": "markdown",
   "id": "618ad9fc",
   "metadata": {},
   "source": [
    "## Support Vector Regressor"
   ]
  },
  {
   "cell_type": "code",
   "execution_count": 27,
   "id": "48a49f5f",
   "metadata": {},
   "outputs": [
    {
     "name": "stderr",
     "output_type": "stream",
     "text": [
      "C:\\Users\\KIIT\\anaconda3\\envs\\ml\\lib\\site-packages\\sklearn\\utils\\validation.py:1143: DataConversionWarning: A column-vector y was passed when a 1d array was expected. Please change the shape of y to (n_samples, ), for example using ravel().\n",
      "  y = column_or_1d(y, warn=True)\n"
     ]
    },
    {
     "name": "stdout",
     "output_type": "stream",
     "text": [
      "Mean Abosolute Error: 1696.9448694164319\n",
      "Mean Squared Error: 833685785.6379396\n",
      "Root Mean Squared Error: 28873.617467126274\n"
     ]
    }
   ],
   "source": [
    "from sklearn.svm import SVR\n",
    "svr_reg=SVR()\n",
    "svr_reg.fit(X_train,y_train)\n",
    "print_error(X_test,y_test,svr_reg)\n"
   ]
  },
  {
   "cell_type": "markdown",
   "id": "152ac324",
   "metadata": {},
   "source": [
    "## Random Forest Regressor\n",
    "\n"
   ]
  },
  {
   "cell_type": "code",
   "execution_count": 28,
   "id": "7e347b72",
   "metadata": {},
   "outputs": [
    {
     "name": "stderr",
     "output_type": "stream",
     "text": [
      "C:\\Users\\KIIT\\AppData\\Local\\Temp\\ipykernel_23540\\779770597.py:3: DataConversionWarning: A column-vector y was passed when a 1d array was expected. Please change the shape of y to (n_samples,), for example using ravel().\n",
      "  random_forest.fit(X_train,y_train)\n"
     ]
    },
    {
     "name": "stdout",
     "output_type": "stream",
     "text": [
      "Mean Abosolute Error: 3416.6262930937637\n",
      "Mean Squared Error: 716146539.4403696\n",
      "Root Mean Squared Error: 26760.914398435074\n"
     ]
    }
   ],
   "source": [
    "from sklearn.ensemble import RandomForestRegressor\n",
    "random_forest=RandomForestRegressor(n_estimators=200,max_depth=25,min_samples_split=15,min_samples_leaf=2)\n",
    "random_forest.fit(X_train,y_train)\n",
    "print_error(X_test,y_test,random_forest)"
   ]
  },
  {
   "cell_type": "markdown",
   "id": "f7755b0b",
   "metadata": {},
   "source": [
    "# Artificial Neural Network\n"
   ]
  },
  {
   "cell_type": "code",
   "execution_count": 29,
   "id": "79c32515",
   "metadata": {
    "scrolled": false
   },
   "outputs": [
    {
     "name": "stdout",
     "output_type": "stream",
     "text": [
      "Epoch 1/100\n",
      "366/366 [==============================] - 2s 2ms/step - loss: 767407168.0000 - mean_squared_error: 767407168.0000\n",
      "Epoch 2/100\n",
      "366/366 [==============================] - 1s 2ms/step - loss: 767402944.0000 - mean_squared_error: 767402944.0000\n",
      "Epoch 3/100\n",
      "366/366 [==============================] - 1s 2ms/step - loss: 767398208.0000 - mean_squared_error: 767398208.0000\n",
      "Epoch 4/100\n",
      "366/366 [==============================] - 1s 2ms/step - loss: 767392128.0000 - mean_squared_error: 767392128.0000\n",
      "Epoch 5/100\n",
      "366/366 [==============================] - 1s 2ms/step - loss: 767384448.0000 - mean_squared_error: 767384448.0000\n",
      "Epoch 6/100\n",
      "366/366 [==============================] - 1s 2ms/step - loss: 767374016.0000 - mean_squared_error: 767374016.0000\n",
      "Epoch 7/100\n",
      "366/366 [==============================] - 1s 2ms/step - loss: 767362304.0000 - mean_squared_error: 767362304.0000\n",
      "Epoch 8/100\n",
      "366/366 [==============================] - 1s 2ms/step - loss: 767347904.0000 - mean_squared_error: 767347904.0000\n",
      "Epoch 9/100\n",
      "366/366 [==============================] - 1s 2ms/step - loss: 767331200.0000 - mean_squared_error: 767331200.0000\n",
      "Epoch 10/100\n",
      "366/366 [==============================] - 1s 2ms/step - loss: 767312320.0000 - mean_squared_error: 767312320.0000\n",
      "Epoch 11/100\n",
      "366/366 [==============================] - 1s 2ms/step - loss: 767291648.0000 - mean_squared_error: 767291648.0000\n",
      "Epoch 12/100\n",
      "366/366 [==============================] - 1s 2ms/step - loss: 767267968.0000 - mean_squared_error: 767267968.0000\n",
      "Epoch 13/100\n",
      "366/366 [==============================] - 1s 2ms/step - loss: 767242624.0000 - mean_squared_error: 767242624.0000\n",
      "Epoch 14/100\n",
      "366/366 [==============================] - 1s 2ms/step - loss: 767213696.0000 - mean_squared_error: 767213696.0000\n",
      "Epoch 15/100\n",
      "366/366 [==============================] - 1s 3ms/step - loss: 767182848.0000 - mean_squared_error: 767182848.0000\n",
      "Epoch 16/100\n",
      "366/366 [==============================] - 1s 2ms/step - loss: 767150592.0000 - mean_squared_error: 767150592.0000\n",
      "Epoch 17/100\n",
      "366/366 [==============================] - 1s 2ms/step - loss: 767114240.0000 - mean_squared_error: 767114240.0000\n",
      "Epoch 18/100\n",
      "366/366 [==============================] - 1s 2ms/step - loss: 767075648.0000 - mean_squared_error: 767075648.0000\n",
      "Epoch 19/100\n",
      "366/366 [==============================] - 1s 2ms/step - loss: 767034944.0000 - mean_squared_error: 767034944.0000\n",
      "Epoch 20/100\n",
      "366/366 [==============================] - 1s 2ms/step - loss: 766991872.0000 - mean_squared_error: 766991872.0000\n",
      "Epoch 21/100\n",
      "366/366 [==============================] - 1s 2ms/step - loss: 766947648.0000 - mean_squared_error: 766947648.0000\n",
      "Epoch 22/100\n",
      "366/366 [==============================] - 1s 2ms/step - loss: 766900608.0000 - mean_squared_error: 766900608.0000\n",
      "Epoch 23/100\n",
      "366/366 [==============================] - 1s 2ms/step - loss: 766852416.0000 - mean_squared_error: 766852416.0000\n",
      "Epoch 24/100\n",
      "366/366 [==============================] - 1s 2ms/step - loss: 766803648.0000 - mean_squared_error: 766803648.0000\n",
      "Epoch 25/100\n",
      "366/366 [==============================] - 1s 2ms/step - loss: 766751040.0000 - mean_squared_error: 766751040.0000\n",
      "Epoch 26/100\n",
      "366/366 [==============================] - 1s 2ms/step - loss: 766696000.0000 - mean_squared_error: 766696000.0000\n",
      "Epoch 27/100\n",
      "366/366 [==============================] - 1s 2ms/step - loss: 766640448.0000 - mean_squared_error: 766640448.0000\n",
      "Epoch 28/100\n",
      "366/366 [==============================] - 1s 2ms/step - loss: 766583104.0000 - mean_squared_error: 766583104.0000\n",
      "Epoch 29/100\n",
      "366/366 [==============================] - 1s 2ms/step - loss: 766525248.0000 - mean_squared_error: 766525248.0000\n",
      "Epoch 30/100\n",
      "366/366 [==============================] - 1s 2ms/step - loss: 766465856.0000 - mean_squared_error: 766465856.0000\n",
      "Epoch 31/100\n",
      "366/366 [==============================] - 1s 2ms/step - loss: 766405824.0000 - mean_squared_error: 766405824.0000\n",
      "Epoch 32/100\n",
      "366/366 [==============================] - 1s 2ms/step - loss: 766343040.0000 - mean_squared_error: 766343040.0000\n",
      "Epoch 33/100\n",
      "366/366 [==============================] - 1s 2ms/step - loss: 766279232.0000 - mean_squared_error: 766279232.0000\n",
      "Epoch 34/100\n",
      "366/366 [==============================] - 1s 2ms/step - loss: 766215040.0000 - mean_squared_error: 766215040.0000\n",
      "Epoch 35/100\n",
      "366/366 [==============================] - 1s 2ms/step - loss: 766153344.0000 - mean_squared_error: 766153344.0000\n",
      "Epoch 36/100\n",
      "366/366 [==============================] - 1s 2ms/step - loss: 766091456.0000 - mean_squared_error: 766091456.0000\n",
      "Epoch 37/100\n",
      "366/366 [==============================] - 1s 2ms/step - loss: 766027136.0000 - mean_squared_error: 766027136.0000\n",
      "Epoch 38/100\n",
      "366/366 [==============================] - 1s 2ms/step - loss: 765963840.0000 - mean_squared_error: 765963840.0000\n",
      "Epoch 39/100\n",
      "366/366 [==============================] - 1s 2ms/step - loss: 765901952.0000 - mean_squared_error: 765901952.0000\n",
      "Epoch 40/100\n",
      "366/366 [==============================] - 1s 2ms/step - loss: 765838976.0000 - mean_squared_error: 765838976.0000\n",
      "Epoch 41/100\n",
      "366/366 [==============================] - 1s 2ms/step - loss: 765775808.0000 - mean_squared_error: 765775808.0000\n",
      "Epoch 42/100\n",
      "366/366 [==============================] - 1s 2ms/step - loss: 765716160.0000 - mean_squared_error: 765716160.0000\n",
      "Epoch 43/100\n",
      "366/366 [==============================] - 1s 2ms/step - loss: 765657152.0000 - mean_squared_error: 765657152.0000\n",
      "Epoch 44/100\n",
      "366/366 [==============================] - 1s 2ms/step - loss: 765595904.0000 - mean_squared_error: 765595904.0000\n",
      "Epoch 45/100\n",
      "366/366 [==============================] - 1s 2ms/step - loss: 765534272.0000 - mean_squared_error: 765534272.0000\n",
      "Epoch 46/100\n",
      "366/366 [==============================] - 1s 2ms/step - loss: 765474368.0000 - mean_squared_error: 765474368.0000\n",
      "Epoch 47/100\n",
      "366/366 [==============================] - 1s 2ms/step - loss: 765414976.0000 - mean_squared_error: 765414976.0000\n",
      "Epoch 48/100\n",
      "366/366 [==============================] - 1s 2ms/step - loss: 765357568.0000 - mean_squared_error: 765357568.0000\n",
      "Epoch 49/100\n",
      "366/366 [==============================] - 1s 2ms/step - loss: 765299264.0000 - mean_squared_error: 765299264.0000\n",
      "Epoch 50/100\n",
      "366/366 [==============================] - 1s 3ms/step - loss: 765242304.0000 - mean_squared_error: 765242304.0000\n",
      "Epoch 51/100\n",
      "366/366 [==============================] - 1s 2ms/step - loss: 765186304.0000 - mean_squared_error: 765186304.0000\n",
      "Epoch 52/100\n",
      "366/366 [==============================] - 1s 2ms/step - loss: 765129984.0000 - mean_squared_error: 765129984.0000\n",
      "Epoch 53/100\n",
      "366/366 [==============================] - 1s 2ms/step - loss: 765076096.0000 - mean_squared_error: 765076096.0000\n",
      "Epoch 54/100\n",
      "366/366 [==============================] - 1s 2ms/step - loss: 765023616.0000 - mean_squared_error: 765023616.0000\n",
      "Epoch 55/100\n",
      "366/366 [==============================] - 1s 2ms/step - loss: 764972736.0000 - mean_squared_error: 764972736.0000\n",
      "Epoch 56/100\n",
      "366/366 [==============================] - 1s 2ms/step - loss: 764923200.0000 - mean_squared_error: 764923200.0000\n",
      "Epoch 57/100\n",
      "366/366 [==============================] - 1s 2ms/step - loss: 764873600.0000 - mean_squared_error: 764873600.0000\n",
      "Epoch 58/100\n",
      "366/366 [==============================] - 1s 2ms/step - loss: 764826560.0000 - mean_squared_error: 764826560.0000\n",
      "Epoch 59/100\n",
      "366/366 [==============================] - 1s 2ms/step - loss: 764780416.0000 - mean_squared_error: 764780416.0000\n",
      "Epoch 60/100\n",
      "366/366 [==============================] - 1s 2ms/step - loss: 764735872.0000 - mean_squared_error: 764735872.0000\n",
      "Epoch 61/100\n",
      "366/366 [==============================] - 1s 2ms/step - loss: 764692608.0000 - mean_squared_error: 764692608.0000\n",
      "Epoch 62/100\n",
      "366/366 [==============================] - 1s 2ms/step - loss: 764651008.0000 - mean_squared_error: 764651008.0000\n",
      "Epoch 63/100\n",
      "366/366 [==============================] - 1s 2ms/step - loss: 764610304.0000 - mean_squared_error: 764610304.0000\n",
      "Epoch 64/100\n",
      "366/366 [==============================] - 1s 2ms/step - loss: 764573440.0000 - mean_squared_error: 764573440.0000\n",
      "Epoch 65/100\n"
     ]
    },
    {
     "name": "stdout",
     "output_type": "stream",
     "text": [
      "366/366 [==============================] - 1s 2ms/step - loss: 764532928.0000 - mean_squared_error: 764532928.0000\n",
      "Epoch 66/100\n",
      "366/366 [==============================] - 1s 2ms/step - loss: 764494848.0000 - mean_squared_error: 764494848.0000\n",
      "Epoch 67/100\n",
      "366/366 [==============================] - 1s 3ms/step - loss: 764458624.0000 - mean_squared_error: 764458624.0000\n",
      "Epoch 68/100\n",
      "366/366 [==============================] - 1s 2ms/step - loss: 764423360.0000 - mean_squared_error: 764423360.0000\n",
      "Epoch 69/100\n",
      "366/366 [==============================] - 1s 2ms/step - loss: 764389888.0000 - mean_squared_error: 764389888.0000\n",
      "Epoch 70/100\n",
      "366/366 [==============================] - 1s 2ms/step - loss: 764357888.0000 - mean_squared_error: 764357888.0000\n",
      "Epoch 71/100\n",
      "366/366 [==============================] - 1s 2ms/step - loss: 764325952.0000 - mean_squared_error: 764325952.0000\n",
      "Epoch 72/100\n",
      "366/366 [==============================] - 1s 2ms/step - loss: 764295936.0000 - mean_squared_error: 764295936.0000\n",
      "Epoch 73/100\n",
      "366/366 [==============================] - 1s 2ms/step - loss: 764266368.0000 - mean_squared_error: 764266368.0000\n",
      "Epoch 74/100\n",
      "366/366 [==============================] - 1s 2ms/step - loss: 764240064.0000 - mean_squared_error: 764240064.0000\n",
      "Epoch 75/100\n",
      "366/366 [==============================] - 1s 2ms/step - loss: 764214272.0000 - mean_squared_error: 764214272.0000\n",
      "Epoch 76/100\n",
      "366/366 [==============================] - 1s 2ms/step - loss: 764188096.0000 - mean_squared_error: 764188096.0000\n",
      "Epoch 77/100\n",
      "366/366 [==============================] - 1s 2ms/step - loss: 764162496.0000 - mean_squared_error: 764162496.0000\n",
      "Epoch 78/100\n",
      "366/366 [==============================] - 1s 2ms/step - loss: 764137728.0000 - mean_squared_error: 764137728.0000\n",
      "Epoch 79/100\n",
      "366/366 [==============================] - 1s 2ms/step - loss: 764114176.0000 - mean_squared_error: 764114176.0000\n",
      "Epoch 80/100\n",
      "366/366 [==============================] - 1s 2ms/step - loss: 764090048.0000 - mean_squared_error: 764090048.0000\n",
      "Epoch 81/100\n",
      "366/366 [==============================] - 1s 2ms/step - loss: 764066176.0000 - mean_squared_error: 764066176.0000\n",
      "Epoch 82/100\n",
      "366/366 [==============================] - 1s 2ms/step - loss: 764044800.0000 - mean_squared_error: 764044800.0000\n",
      "Epoch 83/100\n",
      "366/366 [==============================] - 1s 2ms/step - loss: 764022016.0000 - mean_squared_error: 764022016.0000\n",
      "Epoch 84/100\n",
      "366/366 [==============================] - 1s 2ms/step - loss: 764001088.0000 - mean_squared_error: 764001088.0000\n",
      "Epoch 85/100\n",
      "366/366 [==============================] - 1s 2ms/step - loss: 763979840.0000 - mean_squared_error: 763979840.0000\n",
      "Epoch 86/100\n",
      "366/366 [==============================] - 1s 2ms/step - loss: 763959360.0000 - mean_squared_error: 763959360.0000\n",
      "Epoch 87/100\n",
      "366/366 [==============================] - 1s 2ms/step - loss: 763940096.0000 - mean_squared_error: 763940096.0000\n",
      "Epoch 88/100\n",
      "366/366 [==============================] - 1s 2ms/step - loss: 763920640.0000 - mean_squared_error: 763920640.0000\n",
      "Epoch 89/100\n",
      "366/366 [==============================] - 1s 2ms/step - loss: 763902464.0000 - mean_squared_error: 763902464.0000\n",
      "Epoch 90/100\n",
      "366/366 [==============================] - 1s 2ms/step - loss: 763884992.0000 - mean_squared_error: 763884992.0000\n",
      "Epoch 91/100\n",
      "366/366 [==============================] - 1s 2ms/step - loss: 763866048.0000 - mean_squared_error: 763866048.0000\n",
      "Epoch 92/100\n",
      "366/366 [==============================] - 1s 2ms/step - loss: 763848640.0000 - mean_squared_error: 763848640.0000\n",
      "Epoch 93/100\n",
      "366/366 [==============================] - 1s 2ms/step - loss: 763831104.0000 - mean_squared_error: 763831104.0000\n",
      "Epoch 94/100\n",
      "366/366 [==============================] - 1s 2ms/step - loss: 763814720.0000 - mean_squared_error: 763814720.0000\n",
      "Epoch 95/100\n",
      "366/366 [==============================] - 1s 2ms/step - loss: 763798400.0000 - mean_squared_error: 763798400.0000\n",
      "Epoch 96/100\n",
      "366/366 [==============================] - 1s 2ms/step - loss: 763784960.0000 - mean_squared_error: 763784960.0000\n",
      "Epoch 97/100\n",
      "366/366 [==============================] - 1s 2ms/step - loss: 763766976.0000 - mean_squared_error: 763766976.0000\n",
      "Epoch 98/100\n",
      "366/366 [==============================] - 1s 2ms/step - loss: 763751936.0000 - mean_squared_error: 763751936.0000\n",
      "Epoch 99/100\n",
      "366/366 [==============================] - 1s 2ms/step - loss: 763734912.0000 - mean_squared_error: 763734912.0000\n",
      "Epoch 100/100\n",
      "366/366 [==============================] - 1s 2ms/step - loss: 763721472.0000 - mean_squared_error: 763721472.0000\n",
      "Model: \"sequential\"\n",
      "_________________________________________________________________\n",
      " Layer (type)                Output Shape              Param #   \n",
      "=================================================================\n",
      " dense (Dense)               (None, 6)                 48        \n",
      "                                                                 \n",
      " dense_1 (Dense)             (None, 6)                 42        \n",
      "                                                                 \n",
      " dense_2 (Dense)             (None, 1)                 7         \n",
      "                                                                 \n",
      "=================================================================\n",
      "Total params: 97 (388.00 Byte)\n",
      "Trainable params: 97 (388.00 Byte)\n",
      "Non-trainable params: 0 (0.00 Byte)\n",
      "_________________________________________________________________\n",
      "92/92 [==============================] - 0s 2ms/step\n",
      "Mean Abosolute Error: 3023.1779064241327\n",
      "Mean Squared Error: 830064346.9328922\n",
      "Root Mean Squared Error: 28810.8373174556\n"
     ]
    }
   ],
   "source": [
    "import tensorflow as tf\n",
    "from tensorflow.keras.models import Sequential\n",
    "from tensorflow.keras.layers import Dense\n",
    "\n",
    "ann = Sequential([\n",
    "    Dense(6, activation=\"relu\", input_shape=X_train.shape[1:]),\n",
    "    Dense(6, activation='relu'),\n",
    "    Dense(1)\n",
    "])\n",
    "\n",
    "optimizer = tf.keras.optimizers.Adam()\n",
    "loss = tf.keras.losses.mean_squared_error\n",
    "\n",
    "ann.compile(optimizer=optimizer, loss=loss, metrics=[\"mean_squared_error\"])\n",
    "\n",
    "history=ann.fit(X_train,y_train,epochs=100)\n",
    "\n",
    "ann.summary()\n",
    "print_error(X_test,y_test,ann)"
   ]
  },
  {
   "cell_type": "markdown",
   "id": "f2670b62",
   "metadata": {},
   "source": [
    "## Saving Scikitlearn models"
   ]
  },
  {
   "cell_type": "code",
   "execution_count": 30,
   "id": "9f7303e6",
   "metadata": {},
   "outputs": [
    {
     "data": {
      "text/plain": [
       "['support_vector_youtubeadview.pkl']"
      ]
     },
     "execution_count": 30,
     "metadata": {},
     "output_type": "execute_result"
    }
   ],
   "source": [
    "import joblib\n",
    "joblib.dump(svr_reg, \"support_vector_youtubeadview.pkl\")"
   ]
  },
  {
   "cell_type": "markdown",
   "id": "ae591450",
   "metadata": {},
   "source": [
    "## Saving Keras Artificial Neural Network model"
   ]
  },
  {
   "cell_type": "code",
   "execution_count": 31,
   "id": "16c96cf8",
   "metadata": {},
   "outputs": [
    {
     "name": "stderr",
     "output_type": "stream",
     "text": [
      "C:\\Users\\KIIT\\anaconda3\\envs\\ml\\lib\\site-packages\\keras\\src\\engine\\training.py:3000: UserWarning: You are saving your model as an HDF5 file via `model.save()`. This file format is considered legacy. We recommend using instead the native Keras format, e.g. `model.save('my_model.keras')`.\n",
      "  saving_api.save_model(\n"
     ]
    }
   ],
   "source": [
    "ann.save(\"ann_youtubeadview.h5\")"
   ]
  },
  {
   "cell_type": "code",
   "execution_count": 32,
   "id": "e27468c2",
   "metadata": {},
   "outputs": [
    {
     "name": "stderr",
     "output_type": "stream",
     "text": [
      "C:\\Users\\KIIT\\anaconda3\\envs\\ml\\lib\\site-packages\\sklearn\\utils\\validation.py:1143: DataConversionWarning: A column-vector y was passed when a 1d array was expected. Please change the shape of y to (n_samples, ), for example using ravel().\n",
      "  y = column_or_1d(y, warn=True)\n"
     ]
    },
    {
     "name": "stdout",
     "output_type": "stream",
     "text": [
      "Weighted Average F1 Score (SVM): 0.2479046247525859\n"
     ]
    }
   ],
   "source": [
    "\n",
    "from sklearn.svm import SVC\n",
    "from sklearn.metrics import f1_score\n",
    "\n",
    "# Create and train an SVM model\n",
    "svm_classifier = SVC()\n",
    "svm_classifier.fit(X_train, y_train)\n",
    "\n",
    "# Predict on the test set\n",
    "y_pred_svm = svm_classifier.predict(X_test)\n",
    "\n",
    "# Calculate Weighted Average F1 Score\n",
    "f1_weighted_svm = f1_score(y_test, y_pred_svm, average='weighted')\n",
    "print(\"Weighted Average F1 Score (SVM):\", f1_weighted_svm)\n"
   ]
  },
  {
   "cell_type": "code",
   "execution_count": 33,
   "id": "6813be4a",
   "metadata": {},
   "outputs": [
    {
     "name": "stdout",
     "output_type": "stream",
     "text": [
      "Weighted Average F1 Score (Decision Tree): 0.2450601858011052\n"
     ]
    }
   ],
   "source": [
    "from sklearn.tree import DecisionTreeClassifier\n",
    "from sklearn.metrics import f1_score\n",
    "\n",
    "# Create and train a Decision Tree model\n",
    "decision_tree_classifier = DecisionTreeClassifier()\n",
    "decision_tree_classifier.fit(X_train, y_train)\n",
    "\n",
    "# Predict on the test set\n",
    "y_pred_tree = decision_tree_classifier.predict(X_test)\n",
    "\n",
    "# Calculate Weighted Average F1 Score\n",
    "f1_weighted_tree = f1_score(y_test, y_pred_tree, average='weighted')\n",
    "print(\"Weighted Average F1 Score (Decision Tree):\", f1_weighted_tree)\n"
   ]
  },
  {
   "cell_type": "code",
   "execution_count": 34,
   "id": "b11d5eb3",
   "metadata": {},
   "outputs": [
    {
     "name": "stderr",
     "output_type": "stream",
     "text": [
      "C:\\Users\\KIIT\\AppData\\Local\\Temp\\ipykernel_23540\\589138821.py:6: DataConversionWarning: A column-vector y was passed when a 1d array was expected. Please change the shape of y to (n_samples,), for example using ravel().\n",
      "  random_forest_classifier.fit(X_train, y_train)\n"
     ]
    },
    {
     "name": "stdout",
     "output_type": "stream",
     "text": [
      "Weighted Average F1 Score (Random Forest): 0.2901778516496644\n"
     ]
    }
   ],
   "source": [
    "from sklearn.ensemble import RandomForestClassifier\n",
    "from sklearn.metrics import f1_score\n",
    "\n",
    "# Create and train a Random Forest model\n",
    "random_forest_classifier = RandomForestClassifier()\n",
    "random_forest_classifier.fit(X_train, y_train)\n",
    "\n",
    "# Predict on the test set\n",
    "y_pred_rf = random_forest_classifier.predict(X_test)\n",
    "\n",
    "# Calculate Weighted Average F1 Score\n",
    "f1_weighted_rf = f1_score(y_test, y_pred_rf, average='weighted')\n",
    "print(\"Weighted Average F1 Score (Random Forest):\", f1_weighted_rf)\n"
   ]
  },
  {
   "cell_type": "code",
   "execution_count": null,
   "id": "d8f5e511",
   "metadata": {},
   "outputs": [],
   "source": []
  }
 ],
 "metadata": {
  "kernelspec": {
   "display_name": "Python 3 (ipykernel)",
   "language": "python",
   "name": "python3"
  },
  "language_info": {
   "codemirror_mode": {
    "name": "ipython",
    "version": 3
   },
   "file_extension": ".py",
   "mimetype": "text/x-python",
   "name": "python",
   "nbconvert_exporter": "python",
   "pygments_lexer": "ipython3",
   "version": "3.9.17"
  }
 },
 "nbformat": 4,
 "nbformat_minor": 5
}
